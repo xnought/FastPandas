{
 "cells": [
  {
   "cell_type": "code",
   "execution_count": 1,
   "metadata": {},
   "outputs": [],
   "source": [
    "import pandas as pd\n",
    "from fast_pandas import FastPandas"
   ]
  },
  {
   "cell_type": "code",
   "execution_count": 2,
   "metadata": {},
   "outputs": [],
   "source": [
    "df = pd.DataFrame({\"a\": [1, 2, 3, 4, 5, 6, 7, 8, 9, 10], \"b\": [10, 9, 8, 7, 6, 5, 4, 3, 2, 1]})"
   ]
  },
  {
   "cell_type": "code",
   "execution_count": 9,
   "metadata": {},
   "outputs": [
    {
     "name": "stdout",
     "output_type": "stream",
     "text": [
      "avg(\"a\")\n",
      "5.5\n"
     ]
    }
   ],
   "source": [
    "# lazy eval\n",
    "out = FastPandas(df)[\"a\"].avg()\n",
    "print(out)\n",
    "\n",
    "# nothing has been computed yet!\n",
    "# now when you access the item, it will be computed\n",
    "print(out.item())"
   ]
  },
  {
   "cell_type": "code",
   "execution_count": 5,
   "metadata": {},
   "outputs": [],
   "source": [
    "import random\n",
    "# you can choose from the aggregate or numeric functions found on DuckDB\n",
    "large_df = pd.DataFrame({\"a\": random.choices(range(35_000_000), k=100_000_000)})"
   ]
  },
  {
   "cell_type": "code",
   "execution_count": 6,
   "metadata": {},
   "outputs": [
    {
     "name": "stdout",
     "output_type": "stream",
     "text": [
      "33028986\n"
     ]
    }
   ],
   "source": [
    "unique_elements = FastPandas(large_df)[\"a\"].approx_count_distinct().item()\n",
    "print(unique_elements) # uses hyperloglog under the hood"
   ]
  },
  {
   "cell_type": "code",
   "execution_count": 7,
   "metadata": {},
   "outputs": [
    {
     "name": "stdout",
     "output_type": "stream",
     "text": [
      "100,000,000\n"
     ]
    }
   ],
   "source": [
    "# that was on a 100 million row dataframe in much less than a second!!!\n",
    "print(f\"{len(large_df):,}\")"
   ]
  },
  {
   "cell_type": "code",
   "execution_count": 8,
   "metadata": {},
   "outputs": [
    {
     "name": "stdout",
     "output_type": "stream",
     "text": [
      "0.9725752323144956\n"
     ]
    }
   ],
   "source": [
    "# correlation between two columns for 100 million rows???\n",
    "df[\"b\"] = a.abs().add(1).ln().df() # some random other column\n",
    "\n",
    "# a is y, b is x\n",
    "print(FastPandas(df)[\"a\"].corr(FastPandas(df)[\"b\"]).item())"
   ]
  },
  {
   "cell_type": "code",
   "execution_count": 11,
   "metadata": {},
   "outputs": [
    {
     "name": "stdout",
     "output_type": "stream",
     "text": [
      "2.321928094887362\n"
     ]
    }
   ],
   "source": [
    "df = pd.DataFrame({'a': [1, 2, 3, 4, 5, 6, 7, 8, 9, 10], 'b': [10, 9, 8, 7, 6, 5, 4, 3, 2, 1]})\n",
    "\n",
    "output = FastPandas(df)[\"a\"].mul(FastPandas(df)[\"b\"]).abs().add(1).entropy()\n",
    "print(output.item())"
   ]
  }
 ],
 "metadata": {
  "kernelspec": {
   "display_name": "Python 3",
   "language": "python",
   "name": "python3"
  },
  "language_info": {
   "codemirror_mode": {
    "name": "ipython",
    "version": 3
   },
   "file_extension": ".py",
   "mimetype": "text/x-python",
   "name": "python",
   "nbconvert_exporter": "python",
   "pygments_lexer": "ipython3",
   "version": "3.11.2"
  },
  "orig_nbformat": 4
 },
 "nbformat": 4,
 "nbformat_minor": 2
}
