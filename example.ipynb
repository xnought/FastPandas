{
 "cells": [
  {
   "cell_type": "code",
   "execution_count": 1,
   "metadata": {},
   "outputs": [],
   "source": [
    "import pandas as pd\n",
    "from fast_pandas import FastPandas"
   ]
  },
  {
   "cell_type": "code",
   "execution_count": 2,
   "metadata": {},
   "outputs": [],
   "source": [
    "df = pd.DataFrame({\"a\": [1, 2, 3, 4, 5, 6, 7, 8, 9, 10], \"b\": [10, 9, 8, 7, 6, 5, 4, 3, 2, 1]})"
   ]
  },
  {
   "cell_type": "code",
   "execution_count": 3,
   "metadata": {},
   "outputs": [
    {
     "name": "stdout",
     "output_type": "stream",
     "text": [
      "avg(\"a\")\n",
      "5.5\n"
     ]
    }
   ],
   "source": [
    "# lazy eval\n",
    "out = FastPandas(df)[\"a\"].avg()\n",
    "print(out)\n",
    "\n",
    "# nothing has been computed yet!\n",
    "# now when you access the item, it will be computed\n",
    "print(out.item())"
   ]
  },
  {
   "cell_type": "code",
   "execution_count": 4,
   "metadata": {},
   "outputs": [],
   "source": [
    "import random\n",
    "# you can choose from the aggregate or numeric functions found on DuckDB\n",
    "large_df = pd.DataFrame({\"a\": random.choices(range(35_000_000), k=100_000_000)})"
   ]
  },
  {
   "cell_type": "code",
   "execution_count": 5,
   "metadata": {},
   "outputs": [
    {
     "name": "stdout",
     "output_type": "stream",
     "text": [
      "32922886\n"
     ]
    }
   ],
   "source": [
    "unique_elements = FastPandas(large_df)[\"a\"].approx_count_distinct().item()\n",
    "print(unique_elements) # uses hyperloglog under the hooda"
   ]
  },
  {
   "cell_type": "code",
   "execution_count": 6,
   "metadata": {},
   "outputs": [
    {
     "name": "stdout",
     "output_type": "stream",
     "text": [
      "100,000,000\n"
     ]
    }
   ],
   "source": [
    "# that was on a 100 million row dataframe in much less than a second!!!\n",
    "print(f\"{len(large_df):,}\")"
   ]
  },
  {
   "cell_type": "code",
   "execution_count": 7,
   "metadata": {},
   "outputs": [
    {
     "name": "stdout",
     "output_type": "stream",
     "text": [
      "0.8660496436814465\n"
     ]
    }
   ],
   "source": [
    "# correlation between two columns for 100 million rows???\n",
    "large_df[\"b\"] = FastPandas(large_df)[\"a\"].abs().add(1).ln().df() # some random other column\n",
    "\n",
    "# a is y, b is x\n",
    "print(FastPandas(large_df)[\"a\"].corr(FastPandas(large_df)[\"b\"]).item())"
   ]
  },
  {
   "cell_type": "code",
   "execution_count": 8,
   "metadata": {},
   "outputs": [
    {
     "name": "stdout",
     "output_type": "stream",
     "text": [
      "17499091.831885844\n"
     ]
    }
   ],
   "source": [
    "# filtering too!\n",
    "output = FastPandas(large_df)[\"a\"].filter(FastPandas(large_df)[\"a\"].gt(5)).avg()\n",
    "print(output.item())"
   ]
  },
  {
   "cell_type": "code",
   "execution_count": 14,
   "metadata": {},
   "outputs": [
    {
     "data": {
      "text/plain": [
       "11024.036363924703"
      ]
     },
     "execution_count": 14,
     "metadata": {},
     "output_type": "execute_result"
    }
   ],
   "source": [
    "FastPandas(large_df)[\"a\"].filter(FastPandas(large_df)[\"a\"].gt(0)._and(FastPandas(large_df)[\"b\"].lt(10))).avg().item()"
   ]
  },
  {
   "cell_type": "code",
   "execution_count": 15,
   "metadata": {},
   "outputs": [
    {
     "data": {
      "text/plain": [
       "21028"
      ]
     },
     "execution_count": 15,
     "metadata": {},
     "output_type": "execute_result"
    }
   ],
   "source": [
    "# count distinct between 0 and 10\n",
    "between_0_and_10 = FastPandas(large_df)[\"a\"].gte(0)._and(FastPandas(large_df)[\"b\"].lte(10))\n",
    "FastPandas(large_df)[\"a\"].filter(between_0_and_10).approx_count_distinct().item()"
   ]
  }
 ],
 "metadata": {
  "kernelspec": {
   "display_name": "Python 3",
   "language": "python",
   "name": "python3"
  },
  "language_info": {
   "codemirror_mode": {
    "name": "ipython",
    "version": 3
   },
   "file_extension": ".py",
   "mimetype": "text/x-python",
   "name": "python",
   "nbconvert_exporter": "python",
   "pygments_lexer": "ipython3",
   "version": "3.11.2"
  },
  "orig_nbformat": 4
 },
 "nbformat": 4,
 "nbformat_minor": 2
}
