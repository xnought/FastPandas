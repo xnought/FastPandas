{
 "cells": [
  {
   "cell_type": "code",
   "execution_count": 1,
   "metadata": {},
   "outputs": [],
   "source": [
    "import pandas as pd\n",
    "from fastpandas import FastPandas"
   ]
  },
  {
   "cell_type": "code",
   "execution_count": 2,
   "metadata": {},
   "outputs": [],
   "source": [
    "df = pd.DataFrame({\"a\": [1, 2, 3, 4, 5, 6, 7, 8, 9, 10], \"b\": [10, 9, 8, 7, 6, 5, 4, 3, 2, 1]})"
   ]
  },
  {
   "cell_type": "code",
   "execution_count": 3,
   "metadata": {},
   "outputs": [
    {
     "name": "stdout",
     "output_type": "stream",
     "text": [
      "avg(\"a\")\n",
      "5.5\n"
     ]
    }
   ],
   "source": [
    "# lazy eval\n",
    "out = FastPandas(df)[\"a\"].avg()\n",
    "print(out)\n",
    "\n",
    "# nothing has been computed yet!\n",
    "# now when you access the item, it will be computed\n",
    "print(out.item())"
   ]
  },
  {
   "cell_type": "code",
   "execution_count": 4,
   "metadata": {},
   "outputs": [],
   "source": [
    "import random\n",
    "# you can choose from the aggregate or numeric functions found on DuckDB\n",
    "large_df = pd.DataFrame({\"a\": random.choices(range(35_000_000), k=100_000_000)})"
   ]
  },
  {
   "cell_type": "code",
   "execution_count": 5,
   "metadata": {},
   "outputs": [
    {
     "name": "stdout",
     "output_type": "stream",
     "text": [
      "32981280\n"
     ]
    }
   ],
   "source": [
    "unique_elements = FastPandas(large_df)[\"a\"].approx_count_distinct().item()\n",
    "print(unique_elements) # uses hyperloglog under the hooda"
   ]
  },
  {
   "cell_type": "code",
   "execution_count": 6,
   "metadata": {},
   "outputs": [
    {
     "name": "stdout",
     "output_type": "stream",
     "text": [
      "100,000,000\n"
     ]
    }
   ],
   "source": [
    "# that was on a 100 million row dataframe in much less than a second!!!\n",
    "print(f\"{len(large_df):,}\")"
   ]
  },
  {
   "cell_type": "code",
   "execution_count": 7,
   "metadata": {},
   "outputs": [
    {
     "name": "stdout",
     "output_type": "stream",
     "text": [
      "0.8660407741494259\n"
     ]
    }
   ],
   "source": [
    "# correlation between two columns for 100 million rows???\n",
    "large_df[\"b\"] = FastPandas(large_df)[\"a\"].abs().add(1).ln().df() # some random other column\n",
    "\n",
    "# a is y, b is x\n",
    "print(FastPandas(large_df)[\"a\"].corr(FastPandas(large_df)[\"b\"]).item())"
   ]
  },
  {
   "cell_type": "code",
   "execution_count": 8,
   "metadata": {},
   "outputs": [
    {
     "name": "stdout",
     "output_type": "stream",
     "text": [
      "17498532.055985566\n"
     ]
    }
   ],
   "source": [
    "# filtering too!\n",
    "output = FastPandas(large_df)[\"a\"].filter(FastPandas(large_df)[\"a\"].gt(5)).avg()\n",
    "print(output.item())"
   ]
  },
  {
   "cell_type": "code",
   "execution_count": 9,
   "metadata": {},
   "outputs": [
    {
     "data": {
      "text/plain": [
       "10965.912107082819"
      ]
     },
     "execution_count": 9,
     "metadata": {},
     "output_type": "execute_result"
    }
   ],
   "source": [
    "FastPandas(large_df)[\"a\"].filter(FastPandas(large_df)[\"a\"].gt(0)._and(FastPandas(large_df)[\"b\"].lt(10))).avg().item()"
   ]
  },
  {
   "cell_type": "code",
   "execution_count": 10,
   "metadata": {},
   "outputs": [
    {
     "data": {
      "text/plain": [
       "21050"
      ]
     },
     "execution_count": 10,
     "metadata": {},
     "output_type": "execute_result"
    }
   ],
   "source": [
    "# count distinct between 0 and 10\n",
    "between_0_and_10 = FastPandas(large_df)[\"a\"].gte(0)._and(FastPandas(large_df)[\"b\"].lte(10))\n",
    "FastPandas(large_df)[\"a\"].filter(between_0_and_10).approx_count_distinct().item()"
   ]
  },
  {
   "cell_type": "code",
   "execution_count": 12,
   "metadata": {},
   "outputs": [
    {
     "ename": "BinderException",
     "evalue": "Binder Error: No function matches the given name and argument types 'factorial(BIGINT)'. You might need to add explicit type casts.\n\tCandidate functions:\n\tfactorial(INTEGER) -> HUGEINT\n",
     "output_type": "error",
     "traceback": [
      "\u001b[0;31m---------------------------------------------------------------------------\u001b[0m",
      "\u001b[0;31mBinderException\u001b[0m                           Traceback (most recent call last)",
      "Cell \u001b[0;32mIn[12], line 3\u001b[0m\n\u001b[1;32m      1\u001b[0m \u001b[39m# type casting\u001b[39;00m\n\u001b[1;32m      2\u001b[0m _factorial \u001b[39m=\u001b[39m FastPandas(df)[\u001b[39m\"\u001b[39m\u001b[39ma\u001b[39m\u001b[39m\"\u001b[39m]\u001b[39m.\u001b[39mfactorial()\n\u001b[0;32m----> 3\u001b[0m _factorial\u001b[39m.\u001b[39;49mdf()\n",
      "File \u001b[0;32m~/fastpandas/fastpandas/__init__.py:289\u001b[0m, in \u001b[0;36mFastPandas.df\u001b[0;34m(self)\u001b[0m\n\u001b[1;32m    286\u001b[0m \u001b[39mif\u001b[39;00m where_clause \u001b[39m!=\u001b[39m \u001b[39m\"\u001b[39m\u001b[39m\"\u001b[39m:\n\u001b[1;32m    287\u001b[0m \tquery \u001b[39m+\u001b[39m\u001b[39m=\u001b[39m \u001b[39mf\u001b[39m\u001b[39m\"\u001b[39m\u001b[39m WHERE \u001b[39m\u001b[39m{\u001b[39;00mwhere_clause\u001b[39m}\u001b[39;00m\u001b[39m\"\u001b[39m\n\u001b[0;32m--> 289\u001b[0m \u001b[39mreturn\u001b[39;00m duckdb\u001b[39m.\u001b[39;49mquery(query)\u001b[39m.\u001b[39mdf()\n",
      "\u001b[0;31mBinderException\u001b[0m: Binder Error: No function matches the given name and argument types 'factorial(BIGINT)'. You might need to add explicit type casts.\n\tCandidate functions:\n\tfactorial(INTEGER) -> HUGEINT\n"
     ]
    }
   ],
   "source": [
    "# type casting\n",
    "_factorial = FastPandas(df)[\"a\"].factorial()\n",
    "_factorial.df()"
   ]
  },
  {
   "cell_type": "code",
   "execution_count": 16,
   "metadata": {},
   "outputs": [
    {
     "data": {
      "text/html": [
       "<div>\n",
       "<style scoped>\n",
       "    .dataframe tbody tr th:only-of-type {\n",
       "        vertical-align: middle;\n",
       "    }\n",
       "\n",
       "    .dataframe tbody tr th {\n",
       "        vertical-align: top;\n",
       "    }\n",
       "\n",
       "    .dataframe thead th {\n",
       "        text-align: right;\n",
       "    }\n",
       "</style>\n",
       "<table border=\"1\" class=\"dataframe\">\n",
       "  <thead>\n",
       "    <tr style=\"text-align: right;\">\n",
       "      <th></th>\n",
       "      <th>factorial(CAST(a AS INTEGER))</th>\n",
       "    </tr>\n",
       "  </thead>\n",
       "  <tbody>\n",
       "    <tr>\n",
       "      <th>0</th>\n",
       "      <td>1.0</td>\n",
       "    </tr>\n",
       "    <tr>\n",
       "      <th>1</th>\n",
       "      <td>2.0</td>\n",
       "    </tr>\n",
       "    <tr>\n",
       "      <th>2</th>\n",
       "      <td>6.0</td>\n",
       "    </tr>\n",
       "    <tr>\n",
       "      <th>3</th>\n",
       "      <td>24.0</td>\n",
       "    </tr>\n",
       "    <tr>\n",
       "      <th>4</th>\n",
       "      <td>120.0</td>\n",
       "    </tr>\n",
       "    <tr>\n",
       "      <th>5</th>\n",
       "      <td>720.0</td>\n",
       "    </tr>\n",
       "    <tr>\n",
       "      <th>6</th>\n",
       "      <td>5040.0</td>\n",
       "    </tr>\n",
       "    <tr>\n",
       "      <th>7</th>\n",
       "      <td>40320.0</td>\n",
       "    </tr>\n",
       "    <tr>\n",
       "      <th>8</th>\n",
       "      <td>362880.0</td>\n",
       "    </tr>\n",
       "    <tr>\n",
       "      <th>9</th>\n",
       "      <td>3628800.0</td>\n",
       "    </tr>\n",
       "  </tbody>\n",
       "</table>\n",
       "</div>"
      ],
      "text/plain": [
       "   factorial(CAST(a AS INTEGER))\n",
       "0                            1.0\n",
       "1                            2.0\n",
       "2                            6.0\n",
       "3                           24.0\n",
       "4                          120.0\n",
       "5                          720.0\n",
       "6                         5040.0\n",
       "7                        40320.0\n",
       "8                       362880.0\n",
       "9                      3628800.0"
      ]
     },
     "execution_count": 16,
     "metadata": {},
     "output_type": "execute_result"
    }
   ],
   "source": [
    "_factorial = FastPandas(df)[\"a\"].int().factorial()\n",
    "_factorial.df()"
   ]
  }
 ],
 "metadata": {
  "kernelspec": {
   "display_name": "Python 3",
   "language": "python",
   "name": "python3"
  },
  "language_info": {
   "codemirror_mode": {
    "name": "ipython",
    "version": 3
   },
   "file_extension": ".py",
   "mimetype": "text/x-python",
   "name": "python",
   "nbconvert_exporter": "python",
   "pygments_lexer": "ipython3",
   "version": "3.11.2"
  },
  "orig_nbformat": 4
 },
 "nbformat": 4,
 "nbformat_minor": 2
}
